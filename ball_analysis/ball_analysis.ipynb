{
 "cells": [
  {
   "cell_type": "code",
   "execution_count": null,
   "metadata": {},
   "outputs": [],
   "source": [
    "import pickle \n",
    "import pandas as pd \n",
    "import matplotlib.pyplot as plt"
   ]
  },
  {
   "cell_type": "code",
   "execution_count": null,
   "metadata": {},
   "outputs": [],
   "source": [
    "with open('../tracker_stub/ball_detection.pk1', 'rb') as f: \n",
    "    ball_detections = pickle.load(f)"
   ]
  },
  {
   "cell_type": "code",
   "execution_count": null,
   "metadata": {},
   "outputs": [],
   "source": [
    "ball_position = [x.get(1, []) for x in ball_detections]\n",
    "df_ball_position = pd.DataFrame(ball_position, columns = ['x1', 'y1', 'x2', 'y2'])\n",
    "\n",
    "df_ball_position = df_ball_position.interpolate()\n",
    "df_ball_position = df_ball_position.bfill()"
   ]
  },
  {
   "cell_type": "code",
   "execution_count": null,
   "metadata": {},
   "outputs": [],
   "source": [
    "df_ball_position['mid_y'] = (df_ball_position['y1'] + df_ball_position['y2'])//2\n",
    "df_ball_position['mid_y_rolling'] = df_ball_position['mid_y'].rolling(window=5, min_periods=1, center= False).mean()"
   ]
  },
  {
   "cell_type": "code",
   "execution_count": null,
   "metadata": {},
   "outputs": [],
   "source": [
    "plt.plot(df_ball_position['mid_y_rolling'])"
   ]
  },
  {
   "cell_type": "code",
   "execution_count": 6,
   "metadata": {},
   "outputs": [],
   "source": [
    "matrix = [[1,2,3],[3,2,1],[5,6,7]]\n",
    "\n"
   ]
  },
  {
   "cell_type": "code",
   "execution_count": null,
   "metadata": {},
   "outputs": [],
   "source": [
    "df_ball_position['delta_y'] = df_ball_position['mid_y_rolling'].diff()"
   ]
  },
  {
   "cell_type": "code",
   "execution_count": null,
   "metadata": {},
   "outputs": [],
   "source": [
    "plt.plot(df_ball_position['delta_y'])"
   ]
  },
  {
   "cell_type": "code",
   "execution_count": null,
   "metadata": {},
   "outputs": [],
   "source": [
    "df_ball_position['ball_hit'] = 0"
   ]
  },
  {
   "cell_type": "code",
   "execution_count": 20,
   "metadata": {},
   "outputs": [
    {
     "name": "stdout",
     "output_type": "stream",
     "text": [
      "0\n",
      "1\n",
      "2\n",
      "3\n",
      "4\n",
      "5\n",
      "6\n",
      "7\n",
      "8\n",
      "0\n",
      "1\n",
      "2\n",
      "3\n",
      "4\n",
      "5\n",
      "6\n",
      "7\n",
      "8\n",
      "0\n",
      "1\n",
      "2\n",
      "3\n",
      "4\n",
      "5\n",
      "6\n",
      "7\n",
      "8\n",
      "0\n",
      "1\n",
      "2\n",
      "3\n",
      "4\n",
      "5\n",
      "6\n",
      "7\n",
      "8\n",
      "0\n",
      "1\n",
      "2\n",
      "3\n",
      "4\n",
      "5\n",
      "6\n",
      "7\n",
      "8\n",
      "0\n",
      "1\n",
      "2\n",
      "3\n",
      "4\n",
      "5\n",
      "6\n",
      "7\n",
      "8\n"
     ]
    },
    {
     "name": "stderr",
     "output_type": "stream",
     "text": [
      "C:\\Users\\hanna m\\AppData\\Local\\Temp\\ipykernel_26804\\466299119.py:19: SettingWithCopyWarning: \n",
      "A value is trying to be set on a copy of a slice from a DataFrame\n",
      "\n",
      "See the caveats in the documentation: https://pandas.pydata.org/pandas-docs/stable/user_guide/indexing.html#returning-a-view-versus-a-copy\n",
      "  df_ball_position['ball_hit'].iloc[i] = 1\n",
      "C:\\Users\\hanna m\\AppData\\Local\\Temp\\ipykernel_26804\\466299119.py:19: SettingWithCopyWarning: \n",
      "A value is trying to be set on a copy of a slice from a DataFrame\n",
      "\n",
      "See the caveats in the documentation: https://pandas.pydata.org/pandas-docs/stable/user_guide/indexing.html#returning-a-view-versus-a-copy\n",
      "  df_ball_position['ball_hit'].iloc[i] = 1\n",
      "C:\\Users\\hanna m\\AppData\\Local\\Temp\\ipykernel_26804\\466299119.py:19: SettingWithCopyWarning: \n",
      "A value is trying to be set on a copy of a slice from a DataFrame\n",
      "\n",
      "See the caveats in the documentation: https://pandas.pydata.org/pandas-docs/stable/user_guide/indexing.html#returning-a-view-versus-a-copy\n",
      "  df_ball_position['ball_hit'].iloc[i] = 1\n",
      "C:\\Users\\hanna m\\AppData\\Local\\Temp\\ipykernel_26804\\466299119.py:19: SettingWithCopyWarning: \n",
      "A value is trying to be set on a copy of a slice from a DataFrame\n",
      "\n",
      "See the caveats in the documentation: https://pandas.pydata.org/pandas-docs/stable/user_guide/indexing.html#returning-a-view-versus-a-copy\n",
      "  df_ball_position['ball_hit'].iloc[i] = 1\n",
      "C:\\Users\\hanna m\\AppData\\Local\\Temp\\ipykernel_26804\\466299119.py:19: SettingWithCopyWarning: \n",
      "A value is trying to be set on a copy of a slice from a DataFrame\n",
      "\n",
      "See the caveats in the documentation: https://pandas.pydata.org/pandas-docs/stable/user_guide/indexing.html#returning-a-view-versus-a-copy\n",
      "  df_ball_position['ball_hit'].iloc[i] = 1\n",
      "C:\\Users\\hanna m\\AppData\\Local\\Temp\\ipykernel_26804\\466299119.py:19: SettingWithCopyWarning: \n",
      "A value is trying to be set on a copy of a slice from a DataFrame\n",
      "\n",
      "See the caveats in the documentation: https://pandas.pydata.org/pandas-docs/stable/user_guide/indexing.html#returning-a-view-versus-a-copy\n",
      "  df_ball_position['ball_hit'].iloc[i] = 1\n"
     ]
    }
   ],
   "source": [
    "number_of_change_frames = 10\n",
    "for i in range(0, len(df_ball_position) - number_of_change_frames):\n",
    "    negative_change = df_ball_position['delta_y'].iloc[i] > 0 and df_ball_position['delta_y'].iloc[i+1] < 0\n",
    "    positive_change = df_ball_position['delta_y'].iloc[i] < 0 and df_ball_position['delta_y'].iloc[i+1] > 0\n",
    "\n",
    "    if negative_change or positive_change:\n",
    "        change_count = 0\n",
    "        for frame_num in range(i+1, i+number_of_change_frames):\n",
    "            negative_change_next = df_ball_position['delta_y'].iloc[i] > 0 and df_ball_position['delta_y'].iloc[frame_num] < 0\n",
    "            positive_change_next = df_ball_position['delta_y'].iloc[i] < 0 and df_ball_position['delta_y'].iloc[frame_num] > 0\n",
    "\n",
    "            if negative_change and negative_change_next:\n",
    "                print(change_count)\n",
    "                change_count = change_count + 1\n",
    "            elif positive_change and positive_change_next:\n",
    "                print(change_count)\n",
    "                change_count = change_count + 1\n",
    "        if change_count >= int(number_of_change_frames*0.6): \n",
    "            df_ball_position['ball_hit'].iloc[i] = 1\n",
    "        "
   ]
  },
  {
   "cell_type": "code",
   "execution_count": 21,
   "metadata": {},
   "outputs": [
    {
     "data": {
      "text/plain": [
       "ball_hit\n",
       "0    208\n",
       "1      6\n",
       "Name: count, dtype: int64"
      ]
     },
     "execution_count": 21,
     "metadata": {},
     "output_type": "execute_result"
    }
   ],
   "source": [
    "df_ball_position['ball_hit'].value_counts()"
   ]
  },
  {
   "cell_type": "code",
   "execution_count": 23,
   "metadata": {},
   "outputs": [
    {
     "data": {
      "text/html": [
       "<div>\n",
       "<style scoped>\n",
       "    .dataframe tbody tr th:only-of-type {\n",
       "        vertical-align: middle;\n",
       "    }\n",
       "\n",
       "    .dataframe tbody tr th {\n",
       "        vertical-align: top;\n",
       "    }\n",
       "\n",
       "    .dataframe thead th {\n",
       "        text-align: right;\n",
       "    }\n",
       "</style>\n",
       "<table border=\"1\" class=\"dataframe\">\n",
       "  <thead>\n",
       "    <tr style=\"text-align: right;\">\n",
       "      <th></th>\n",
       "      <th>x1</th>\n",
       "      <th>y1</th>\n",
       "      <th>x2</th>\n",
       "      <th>y2</th>\n",
       "      <th>mid_y</th>\n",
       "      <th>mid_y_rolling</th>\n",
       "      <th>delta_y</th>\n",
       "      <th>ball_hit</th>\n",
       "    </tr>\n",
       "  </thead>\n",
       "  <tbody>\n",
       "    <tr>\n",
       "      <th>11</th>\n",
       "      <td>778.359192</td>\n",
       "      <td>717.920288</td>\n",
       "      <td>795.748352</td>\n",
       "      <td>737.275085</td>\n",
       "      <td>727.0</td>\n",
       "      <td>736.4</td>\n",
       "      <td>6.4</td>\n",
       "      <td>1</td>\n",
       "    </tr>\n",
       "    <tr>\n",
       "      <th>58</th>\n",
       "      <td>925.970715</td>\n",
       "      <td>242.399469</td>\n",
       "      <td>937.269897</td>\n",
       "      <td>253.414499</td>\n",
       "      <td>247.0</td>\n",
       "      <td>242.0</td>\n",
       "      <td>-1.4</td>\n",
       "      <td>1</td>\n",
       "    </tr>\n",
       "    <tr>\n",
       "      <th>95</th>\n",
       "      <td>624.449738</td>\n",
       "      <td>749.065521</td>\n",
       "      <td>641.144836</td>\n",
       "      <td>766.161560</td>\n",
       "      <td>757.0</td>\n",
       "      <td>774.6</td>\n",
       "      <td>0.8</td>\n",
       "      <td>1</td>\n",
       "    </tr>\n",
       "    <tr>\n",
       "      <th>131</th>\n",
       "      <td>717.534454</td>\n",
       "      <td>230.629768</td>\n",
       "      <td>728.303070</td>\n",
       "      <td>241.908424</td>\n",
       "      <td>236.0</td>\n",
       "      <td>235.4</td>\n",
       "      <td>-0.6</td>\n",
       "      <td>1</td>\n",
       "    </tr>\n",
       "    <tr>\n",
       "      <th>180</th>\n",
       "      <td>1280.088135</td>\n",
       "      <td>729.819885</td>\n",
       "      <td>1293.602783</td>\n",
       "      <td>745.492310</td>\n",
       "      <td>737.0</td>\n",
       "      <td>727.0</td>\n",
       "      <td>4.0</td>\n",
       "      <td>1</td>\n",
       "    </tr>\n",
       "    <tr>\n",
       "      <th>195</th>\n",
       "      <td>1234.659424</td>\n",
       "      <td>441.003891</td>\n",
       "      <td>1249.876007</td>\n",
       "      <td>455.325073</td>\n",
       "      <td>448.0</td>\n",
       "      <td>432.0</td>\n",
       "      <td>-5.6</td>\n",
       "      <td>1</td>\n",
       "    </tr>\n",
       "  </tbody>\n",
       "</table>\n",
       "</div>"
      ],
      "text/plain": [
       "              x1          y1           x2          y2  mid_y  mid_y_rolling  \\\n",
       "11    778.359192  717.920288   795.748352  737.275085  727.0          736.4   \n",
       "58    925.970715  242.399469   937.269897  253.414499  247.0          242.0   \n",
       "95    624.449738  749.065521   641.144836  766.161560  757.0          774.6   \n",
       "131   717.534454  230.629768   728.303070  241.908424  236.0          235.4   \n",
       "180  1280.088135  729.819885  1293.602783  745.492310  737.0          727.0   \n",
       "195  1234.659424  441.003891  1249.876007  455.325073  448.0          432.0   \n",
       "\n",
       "     delta_y  ball_hit  \n",
       "11       6.4         1  \n",
       "58      -1.4         1  \n",
       "95       0.8         1  \n",
       "131     -0.6         1  \n",
       "180      4.0         1  \n",
       "195     -5.6         1  "
      ]
     },
     "execution_count": 23,
     "metadata": {},
     "output_type": "execute_result"
    }
   ],
   "source": [
    "df_ball_position[df_ball_position['ball_hit']==1]"
   ]
  },
  {
   "cell_type": "code",
   "execution_count": null,
   "metadata": {},
   "outputs": [],
   "source": []
  }
 ],
 "metadata": {
  "kernelspec": {
   "display_name": "Python 3",
   "language": "python",
   "name": "python3"
  },
  "language_info": {
   "codemirror_mode": {
    "name": "ipython",
    "version": 3
   },
   "file_extension": ".py",
   "mimetype": "text/x-python",
   "name": "python",
   "nbconvert_exporter": "python",
   "pygments_lexer": "ipython3",
   "version": "3.12.4"
  }
 },
 "nbformat": 4,
 "nbformat_minor": 2
}
